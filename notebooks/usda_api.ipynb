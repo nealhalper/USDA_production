{
 "cells": [
  {
   "cell_type": "code",
   "execution_count": 160,
   "id": "cd209dbe-e295-4035-9fc5-9e27c77a1397",
   "metadata": {},
   "outputs": [],
   "source": [
    "import requests"
   ]
  },
  {
   "cell_type": "code",
   "execution_count": 142,
   "id": "1e5bcf5d-de50-426a-8f53-691c2ca316c4",
   "metadata": {},
   "outputs": [],
   "source": [
    "api_key = 'VYXvAcSDypcAZbcrCF2AMkIQlMxN65yK2wjRorG6'\n",
    "\n",
    "endpoint = f'https://api.ers.usda.gov/data/arms/variable?api_key={api_key}'\n",
    "\n",
    "response = requests.get(endpoint)"
   ]
  },
  {
   "cell_type": "code",
   "execution_count": 144,
   "id": "78f4bed8-502d-4f5f-9770-6980ee042a4e",
   "metadata": {},
   "outputs": [
    {
     "data": {
      "text/plain": [
       "<Response [200]>"
      ]
     },
     "execution_count": 144,
     "metadata": {},
     "output_type": "execute_result"
    }
   ],
   "source": [
    "response"
   ]
  },
  {
   "cell_type": "code",
   "execution_count": 146,
   "id": "649e5881-56f7-43a9-a0eb-ede08fadf3fa",
   "metadata": {},
   "outputs": [],
   "source": [
    "res = response.json()"
   ]
  },
  {
   "cell_type": "code",
   "execution_count": 148,
   "id": "1de9a7b4-da1f-4b63-b840-3161c50089e6",
   "metadata": {},
   "outputs": [
    {
     "data": {
      "text/plain": [
       "dict_keys(['status', 'info', 'message', 'data', 'detail', 'errors'])"
      ]
     },
     "execution_count": 148,
     "metadata": {},
     "output_type": "execute_result"
    }
   ],
   "source": [
    "res.keys()"
   ]
  },
  {
   "cell_type": "code",
   "execution_count": 152,
   "id": "d9d5ecbf-59c1-4554-a15b-aaffb0ae76ed",
   "metadata": {},
   "outputs": [
    {
     "data": {
      "text/plain": [
       "{'abb': 'kount',\n",
       " 'header': 'Farms',\n",
       " 'desc': 'Estimated number of farms.',\n",
       " 'seq': 10,\n",
       " 'old_Seq': None,\n",
       " 'invalid': False,\n",
       " 'group': None,\n",
       " 'level': 1,\n",
       " 'report_Num': 1,\n",
       " 'report_Dim': {'num': 1,\n",
       "  'header': 'Farm Business Balance Sheet',\n",
       "  'description': None,\n",
       "  'terms': '1 Farm Business Balance Sheet'},\n",
       " 'reportHeader': 'Farm Business Balance Sheet',\n",
       " 'survey_Abb': 'finance',\n",
       " 'unit_Num': 15,\n",
       " 'unit_Dim': {'num': 15, 'desc': 'Number'},\n",
       " 'unit_Desc': None,\n",
       " 'unit': 'Number',\n",
       " 'group_Id': None,\n",
       " 'group_Header': None,\n",
       " 'sub_Report_Id': None,\n",
       " 'sub_Report_Name': None,\n",
       " 'terms': 'KOUNT Farms'}"
      ]
     },
     "execution_count": 152,
     "metadata": {},
     "output_type": "execute_result"
    }
   ],
   "source": [
    "res['data'][0]"
   ]
  },
  {
   "cell_type": "code",
   "execution_count": 138,
   "id": "34ff1721-fef0-4b2f-90c0-0b6bb17c1c52",
   "metadata": {},
   "outputs": [],
   "source": [
    "api_key = 'VYXvAcSDypcAZbcrCF2AMkIQlMxN65yK2wjRorG6'\n",
    "\n",
    "url = f'https://api.ers.usda.gov/data/arms/report?api_key={api_key}'\n",
    "myobj = {'header':'Structural Characteristics'}\n",
    "response = requests.post(url, json = myobj)"
   ]
  },
  {
   "cell_type": "code",
   "execution_count": 140,
   "id": "fc8f229f-2bc3-4e76-b7f3-cefd1027e290",
   "metadata": {},
   "outputs": [
    {
     "data": {
      "text/plain": [
       "<Response [415]>"
      ]
     },
     "execution_count": 140,
     "metadata": {},
     "output_type": "execute_result"
    }
   ],
   "source": [
    "x"
   ]
  }
 ],
 "metadata": {
  "kernelspec": {
   "display_name": "Python 3 (ipykernel)",
   "language": "python",
   "name": "python3"
  },
  "language_info": {
   "codemirror_mode": {
    "name": "ipython",
    "version": 3
   },
   "file_extension": ".py",
   "mimetype": "text/x-python",
   "name": "python",
   "nbconvert_exporter": "python",
   "pygments_lexer": "ipython3",
   "version": "3.12.4"
  }
 },
 "nbformat": 4,
 "nbformat_minor": 5
}
