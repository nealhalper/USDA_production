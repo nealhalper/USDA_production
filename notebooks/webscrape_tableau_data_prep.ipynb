{
 "cells": [
  {
   "cell_type": "code",
   "execution_count": 1,
   "id": "fb3d53a2-118b-454d-a894-a8bc3d990364",
   "metadata": {},
   "outputs": [],
   "source": [
    "import requests\n",
    "from bs4 import BeautifulSoup as BS\n",
    "import pandas as pd"
   ]
  },
  {
   "cell_type": "code",
   "execution_count": 2,
   "id": "05967f20-f190-42c7-b1e2-b254c5e82b3c",
   "metadata": {},
   "outputs": [
    {
     "data": {
      "text/plain": [
       "200"
      ]
     },
     "execution_count": 2,
     "metadata": {},
     "output_type": "execute_result"
    }
   ],
   "source": [
    "URL = 'https://en.wikipedia.org/wiki/List_of_U.S._states_and_territories_by_area'\n",
    "\n",
    "response = requests.get(URL)\n",
    "response.status_code"
   ]
  },
  {
   "cell_type": "code",
   "execution_count": 3,
   "id": "07c28a46-f786-4876-9483-28adab6c8ab7",
   "metadata": {},
   "outputs": [],
   "source": [
    "soup = BS(response.text)"
   ]
  },
  {
   "cell_type": "code",
   "execution_count": 4,
   "id": "99f6930e-55fd-4653-bd88-1132ae557ed6",
   "metadata": {},
   "outputs": [
    {
     "name": "stderr",
     "output_type": "stream",
     "text": [
      "C:\\Users\\corne\\AppData\\Local\\Temp\\ipykernel_59740\\3813345440.py:1: FutureWarning: Passing literal html to 'read_html' is deprecated and will be removed in a future version. To read from a literal string, wrap it in a 'StringIO' object.\n",
      "  state_area = pd.read_html(str(soup.find('table', attrs={'class' : 'wikitable'})))[0]\n"
     ]
    }
   ],
   "source": [
    "state_area = pd.read_html(str(soup.find('table', attrs={'class' : 'wikitable'})))[0]"
   ]
  },
  {
   "cell_type": "code",
   "execution_count": 5,
   "id": "0df9db1c-2772-46fa-9969-84fc10d249be",
   "metadata": {},
   "outputs": [],
   "source": [
    "state_area = state_area[[('State / territory','State / territory'),('Land area', 'sq mi')]]"
   ]
  },
  {
   "cell_type": "code",
   "execution_count": 6,
   "id": "42d41de8-4f8c-4b2e-836a-8a28f310db15",
   "metadata": {},
   "outputs": [],
   "source": [
    "state_area.columns = ['State', 'sq_mi']"
   ]
  },
  {
   "cell_type": "code",
   "execution_count": 7,
   "id": "d5c6e1a5-8771-4945-a0ad-c05f07e62ee0",
   "metadata": {},
   "outputs": [
    {
     "data": {
      "text/html": [
       "<div>\n",
       "<style scoped>\n",
       "    .dataframe tbody tr th:only-of-type {\n",
       "        vertical-align: middle;\n",
       "    }\n",
       "\n",
       "    .dataframe tbody tr th {\n",
       "        vertical-align: top;\n",
       "    }\n",
       "\n",
       "    .dataframe thead th {\n",
       "        text-align: right;\n",
       "    }\n",
       "</style>\n",
       "<table border=\"1\" class=\"dataframe\">\n",
       "  <thead>\n",
       "    <tr style=\"text-align: right;\">\n",
       "      <th></th>\n",
       "      <th>State</th>\n",
       "      <th>sq_mi</th>\n",
       "    </tr>\n",
       "  </thead>\n",
       "  <tbody>\n",
       "    <tr>\n",
       "      <th>0</th>\n",
       "      <td>Alaska</td>\n",
       "      <td>570641</td>\n",
       "    </tr>\n",
       "    <tr>\n",
       "      <th>1</th>\n",
       "      <td>Texas</td>\n",
       "      <td>261232</td>\n",
       "    </tr>\n",
       "    <tr>\n",
       "      <th>2</th>\n",
       "      <td>California</td>\n",
       "      <td>155779</td>\n",
       "    </tr>\n",
       "    <tr>\n",
       "      <th>3</th>\n",
       "      <td>Montana</td>\n",
       "      <td>145546</td>\n",
       "    </tr>\n",
       "    <tr>\n",
       "      <th>4</th>\n",
       "      <td>New Mexico</td>\n",
       "      <td>121298</td>\n",
       "    </tr>\n",
       "    <tr>\n",
       "      <th>...</th>\n",
       "      <td>...</td>\n",
       "      <td>...</td>\n",
       "    </tr>\n",
       "    <tr>\n",
       "      <th>56</th>\n",
       "      <td>Minor Outlying Islands[3][a]</td>\n",
       "      <td>16</td>\n",
       "    </tr>\n",
       "    <tr>\n",
       "      <th>57</th>\n",
       "      <td>Contiguous US</td>\n",
       "      <td>2954843</td>\n",
       "    </tr>\n",
       "    <tr>\n",
       "      <th>58</th>\n",
       "      <td>50 States</td>\n",
       "      <td>3531846</td>\n",
       "    </tr>\n",
       "    <tr>\n",
       "      <th>59</th>\n",
       "      <td>50 States and DC</td>\n",
       "      <td>3531907</td>\n",
       "    </tr>\n",
       "    <tr>\n",
       "      <th>60</th>\n",
       "      <td>United States</td>\n",
       "      <td>3535932</td>\n",
       "    </tr>\n",
       "  </tbody>\n",
       "</table>\n",
       "<p>61 rows × 2 columns</p>\n",
       "</div>"
      ],
      "text/plain": [
       "                           State    sq_mi\n",
       "0                         Alaska   570641\n",
       "1                          Texas   261232\n",
       "2                     California   155779\n",
       "3                        Montana   145546\n",
       "4                     New Mexico   121298\n",
       "..                           ...      ...\n",
       "56  Minor Outlying Islands[3][a]       16\n",
       "57                 Contiguous US  2954843\n",
       "58                     50 States  3531846\n",
       "59              50 States and DC  3531907\n",
       "60                 United States  3535932\n",
       "\n",
       "[61 rows x 2 columns]"
      ]
     },
     "execution_count": 7,
     "metadata": {},
     "output_type": "execute_result"
    }
   ],
   "source": [
    "state_area"
   ]
  },
  {
   "cell_type": "code",
   "execution_count": 8,
   "id": "aa8653b9-f141-4b42-a931-1699f810af85",
   "metadata": {},
   "outputs": [],
   "source": [
    "state_area2 = pd.DataFrame([])\n",
    "state_area2[['State', 'sq_mi']] = pd.concat([state_area.iloc[49].reset_index().transpose()[1:3], state_area.iloc[51].reset_index().transpose()[1:3]])"
   ]
  },
  {
   "cell_type": "code",
   "execution_count": 9,
   "id": "5b20b2c0-3e09-404c-aa09-33374e4cc52a",
   "metadata": {},
   "outputs": [],
   "source": [
    "state_area = pd.concat([state_area.iloc[0:47], state_area2])"
   ]
  },
  {
   "cell_type": "code",
   "execution_count": 10,
   "id": "99cbf9da-2ec2-41bd-9a00-c2f64c503fc8",
   "metadata": {},
   "outputs": [],
   "source": [
    "state_area['State'] = state_area['State'].str.upper()"
   ]
  },
  {
   "cell_type": "code",
   "execution_count": 11,
   "id": "933e0cf5-e23a-4fba-b6ad-8397b3a8df7a",
   "metadata": {},
   "outputs": [],
   "source": [
    "vegetables = pd.read_csv('../data/demographics_vegetables.csv')"
   ]
  },
  {
   "cell_type": "code",
   "execution_count": 12,
   "id": "d08e3772-c244-41b1-bd85-5560c962fc9e",
   "metadata": {},
   "outputs": [],
   "source": [
    "vegetables_state = vegetables.loc[(vegetables['Geo Level'] == 'STATE') & (vegetables['Data Item'] == 'VEGETABLE TOTALS, IN THE OPEN - OPERATIONS WITH AREA IN PRODUCTION')\n",
    "                                & (vegetables['Domain'] == 'ORGANIZATION')]\n",
    "vegetables_state = vegetables_state.loc[vegetables_state['Value'] != ' (D)']\n",
    "vegetables_state = vegetables_state.loc[vegetables_state['Value'] != ' (Z)']\n",
    "vegetables_state['Value'] = vegetables_state['Value'].str.replace(',', '')\n",
    "vegetables_state['Value'] = pd.to_numeric(vegetables_state.Value, downcast='integer').fillna(0)\n",
    "vegetables_state['Organization Type'] = vegetables_state['Domain Category'].map(lambda x: 'Corporation' if 'CORPORATION' in x\n",
    "                                                                              else 'Family & Individual' if 'FAMILY & INDIVIDUAL' in x\n",
    "                                                                              else 'Partnership' if 'PARTNERSHIP' in x\n",
    "                                                                              else 'Institutional & Researach & Reservation' if 'INSTITUTIONAL & RESEARCH & RESERVATION' in x\n",
    "                                                                              else \"\")\n",
    "vegetables_state = vegetables_state.groupby(\n",
    "                ['State', 'Year', 'Organization Type']).sum(\n",
    "                'Value').fillna(0).reset_index()"
   ]
  },
  {
   "cell_type": "code",
   "execution_count": 13,
   "id": "d911eaf0-58ac-46c3-9266-009a3228f597",
   "metadata": {},
   "outputs": [],
   "source": [
    "vegetables_per_sqmi = pd.merge(vegetables_state, state_area, on = 'State')\n",
    "vegetables_per_sqmi['per_sqmi'] = (vegetables_per_sqmi['Value']/vegetables_per_sqmi['sq_mi'])*100"
   ]
  },
  {
   "cell_type": "code",
   "execution_count": 14,
   "id": "7653d230-5b01-4758-abce-e68d9c9a7a7c",
   "metadata": {},
   "outputs": [],
   "source": [
    "fruitnut_state = pd.read_csv('../data/fruittreenuttotals_demographics.csv')\n",
    "berries_state = pd.read_csv('../data/demographics_berries.csv')\n",
    "citrus_state = pd.read_csv('../data/demographics_citrus.csv')\n",
    "commoditites_state = pd.read_csv('../data/commodity_totals.csv')"
   ]
  },
  {
   "cell_type": "code",
   "execution_count": 15,
   "id": "1fa2a050-44ba-42e2-8cfa-86dfdcc9fba5",
   "metadata": {},
   "outputs": [],
   "source": [
    "berries_state = berries_state.loc[(berries_state['Geo Level'] == 'STATE') & (berries_state['Data Item'] == 'BERRY TOTALS - OPERATIONS WITH AREA GROWN')\n",
    "                                & (berries_state['Domain'] == 'ORGANIZATION')]\n",
    "berries_state = berries_state.loc[berries_state['Value'] != ' (D)']\n",
    "berries_state = berries_state.loc[berries_state['Value'] != ' (Z)']\n",
    "berries_state['Value'] = berries_state['Value'].str.replace(',', '')\n",
    "berries_state['Value'] = pd.to_numeric(berries_state.Value, downcast='integer').fillna(0)\n",
    "berries_state['Organization Type'] = berries_state['Domain Category'].map(lambda x: 'Corporation' if 'CORPORATION' in x\n",
    "                                                                              else 'Family & Individual' if 'FAMILY & INDIVIDUAL' in x\n",
    "                                                                              else 'Partnership' if 'PARTNERSHIP' in x\n",
    "                                                                              else 'Institutional & Researach & Reservation' if 'INSTITUTIONAL & RESEARCH & RESERVATION' in x\n",
    "                                                                              else \"\")\n",
    "berries_state = berries_state.groupby(\n",
    "                ['State', 'Year', 'Organization Type']).sum(\n",
    "                'Value').fillna(0).reset_index()"
   ]
  },
  {
   "cell_type": "code",
   "execution_count": 16,
   "id": "e505b3b4-3eda-458b-9680-146a2a0c6c84",
   "metadata": {},
   "outputs": [],
   "source": [
    "berries_per_sqmi = pd.merge(berries_state, state_area, on = 'State')\n",
    "berries_per_sqmi['per_sqmi'] = (berries_per_sqmi['Value']/berries_per_sqmi['sq_mi'])*100"
   ]
  },
  {
   "cell_type": "code",
   "execution_count": 17,
   "id": "8f5f35ab-0270-4fb7-8e90-d9594590082c",
   "metadata": {},
   "outputs": [],
   "source": [
    "citrus_state = citrus_state.loc[(citrus_state['Geo Level'] == 'STATE') & (citrus_state['Data Item'] == 'CITRUS TOTALS - OPERATIONS WITH AREA BEARING & NON-BEARING')\n",
    "                                & (citrus_state['Domain'] == 'ORGANIZATION')]\n",
    "citrus_state = citrus_state.loc[citrus_state['Value'] != ' (D)']\n",
    "citrus_state = citrus_state.loc[citrus_state['Value'] != ' (Z)']\n",
    "citrus_state['Value'] = citrus_state['Value'].str.replace(',', '')\n",
    "citrus_state['Value'] = pd.to_numeric(citrus_state.Value, downcast='integer').fillna(0)\n",
    "citrus_state['Organization Type'] = citrus_state['Domain Category'].map(lambda x: 'Corporation' if 'CORPORATION' in x\n",
    "                                                                              else 'Family & Individual' if 'FAMILY & INDIVIDUAL' in x\n",
    "                                                                              else 'Partnership' if 'PARTNERSHIP' in x\n",
    "                                                                              else 'Institutional & Researach & Reservation' if 'INSTITUTIONAL & RESEARCH & RESERVATION' in x\n",
    "                                                                              else \"\")\n",
    "citrus_state = citrus_state.groupby(\n",
    "                ['State', 'Year', 'Organization Type']).sum(\n",
    "                'Value').fillna(0).reset_index()"
   ]
  },
  {
   "cell_type": "code",
   "execution_count": 18,
   "id": "a0afdd38-f5a3-44b6-9235-eadcf6b932ab",
   "metadata": {},
   "outputs": [],
   "source": [
    "citrus_per_sqmi = pd.merge(citrus_state, state_area, on = 'State')\n",
    "citrus_per_sqmi['per_sqmi'] = (citrus_per_sqmi['Value']/citrus_per_sqmi['sq_mi'])*100"
   ]
  },
  {
   "cell_type": "code",
   "execution_count": 19,
   "id": "734d711c-2b7b-4168-819f-721c3bc6f05e",
   "metadata": {},
   "outputs": [],
   "source": [
    "fruitnut_state = fruitnut_state.loc[(fruitnut_state['Geo Level'] == 'STATE') & (fruitnut_state['Data Item'] == 'FRUIT & TREE NUT TOTALS - OPERATIONS WITH SALES')\n",
    "                                & (fruitnut_state['Domain'] == 'ORGANIZATION')]\n",
    "fruitnut_state = fruitnut_state.loc[fruitnut_state['Value'] != ' (D)']\n",
    "fruitnut_state = fruitnut_state.loc[fruitnut_state['Value'] != ' (Z)']\n",
    "fruitnut_state['Value'] = fruitnut_state['Value'].str.replace(',', '')\n",
    "fruitnut_state['Value'] = pd.to_numeric(fruitnut_state.Value, downcast='integer').fillna(0)\n",
    "fruitnut_state['Organization Type'] = fruitnut_state['Domain Category'].map(lambda x: 'Corporation' if 'CORPORATION' in x\n",
    "                                                                              else 'Family & Individual' if 'FAMILY & INDIVIDUAL' in x\n",
    "                                                                              else 'Partnership' if 'PARTNERSHIP' in x\n",
    "                                                                              else 'Institutional & Researach & Reservation' if 'INSTITUTIONAL & RESEARCH & RESERVATION' in x\n",
    "                                                                              else \"\")\n",
    "fruitnut_state = fruitnut_state.groupby(\n",
    "                ['State', 'Year', 'Organization Type']).sum(\n",
    "                'Value').fillna(0).reset_index()"
   ]
  },
  {
   "cell_type": "code",
   "execution_count": 20,
   "id": "87d94e7b-6d90-4c06-8e96-9b4e40bcf6b2",
   "metadata": {},
   "outputs": [],
   "source": [
    "fruitnut_per_sqmi = pd.merge(fruitnut_state, state_area, on = 'State')\n",
    "fruitnut_per_sqmi['per_sqmi'] = (fruitnut_per_sqmi['Value']/fruitnut_per_sqmi['sq_mi'])*100"
   ]
  },
  {
   "cell_type": "code",
   "execution_count": 21,
   "id": "fc27b40e-8bcd-4bab-a11b-dea0a93b86d1",
   "metadata": {},
   "outputs": [],
   "source": [
    "vegetables_per_sqmi.to_csv(path_or_buf = '../data/vegetables_per_sqmi.csv', index = False)\n",
    "berries_per_sqmi.to_csv(path_or_buf = '../data/berries_per_sqmi.csv', index = False)\n",
    "citrus_per_sqmi.to_csv(path_or_buf = '../data/citrus_per_sqmi.csv', index = False)\n",
    "fruitnut_per_sqmi.to_csv(path_or_buf = '../data/fruitnut_per_sqmi.csv', index = False)"
   ]
  }
 ],
 "metadata": {
  "kernelspec": {
   "display_name": "Python 3 (ipykernel)",
   "language": "python",
   "name": "python3"
  },
  "language_info": {
   "codemirror_mode": {
    "name": "ipython",
    "version": 3
   },
   "file_extension": ".py",
   "mimetype": "text/x-python",
   "name": "python",
   "nbconvert_exporter": "python",
   "pygments_lexer": "ipython3",
   "version": "3.12.4"
  }
 },
 "nbformat": 4,
 "nbformat_minor": 5
}
