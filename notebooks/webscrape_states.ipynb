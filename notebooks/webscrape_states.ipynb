{
 "cells": [
  {
   "cell_type": "code",
   "execution_count": 1,
   "id": "fb3d53a2-118b-454d-a894-a8bc3d990364",
   "metadata": {},
   "outputs": [],
   "source": [
    "import requests\n",
    "from bs4 import BeautifulSoup as BS\n",
    "import pandas as pd"
   ]
  },
  {
   "cell_type": "code",
   "execution_count": 2,
   "id": "05967f20-f190-42c7-b1e2-b254c5e82b3c",
   "metadata": {},
   "outputs": [
    {
     "data": {
      "text/plain": [
       "200"
      ]
     },
     "execution_count": 2,
     "metadata": {},
     "output_type": "execute_result"
    }
   ],
   "source": [
    "URL = 'https://en.wikipedia.org/wiki/List_of_U.S._states_and_territories_by_area'\n",
    "\n",
    "response = requests.get(URL)\n",
    "response.status_code"
   ]
  },
  {
   "cell_type": "code",
   "execution_count": 3,
   "id": "07c28a46-f786-4876-9483-28adab6c8ab7",
   "metadata": {},
   "outputs": [],
   "source": [
    "soup = BS(response.text)"
   ]
  },
  {
   "cell_type": "code",
   "execution_count": 4,
   "id": "99f6930e-55fd-4653-bd88-1132ae557ed6",
   "metadata": {},
   "outputs": [
    {
     "name": "stderr",
     "output_type": "stream",
     "text": [
      "C:\\Users\\corne\\AppData\\Local\\Temp\\ipykernel_66276\\3813345440.py:1: FutureWarning: Passing literal html to 'read_html' is deprecated and will be removed in a future version. To read from a literal string, wrap it in a 'StringIO' object.\n",
      "  state_area = pd.read_html(str(soup.find('table', attrs={'class' : 'wikitable'})))[0]\n"
     ]
    }
   ],
   "source": [
    "state_area = pd.read_html(str(soup.find('table', attrs={'class' : 'wikitable'})))[0]"
   ]
  },
  {
   "cell_type": "code",
   "execution_count": 5,
   "id": "0df9db1c-2772-46fa-9969-84fc10d249be",
   "metadata": {},
   "outputs": [],
   "source": [
    "state_area = state_area[[('State / territory','State / territory'),('Land area', 'sq mi')]]"
   ]
  },
  {
   "cell_type": "code",
   "execution_count": 6,
   "id": "42d41de8-4f8c-4b2e-836a-8a28f310db15",
   "metadata": {},
   "outputs": [],
   "source": [
    "state_area.columns = ['State', 'sq_mi']"
   ]
  },
  {
   "cell_type": "code",
   "execution_count": 26,
   "id": "aa8653b9-f141-4b42-a931-1699f810af85",
   "metadata": {},
   "outputs": [],
   "source": [
    "state_area2[['State', 'sq_mi']] = pd.concat([state_area.iloc[49].reset_index().transpose()[1:3], state_area.iloc[51].reset_index().transpose()[1:3]])"
   ]
  },
  {
   "cell_type": "code",
   "execution_count": 34,
   "id": "5b20b2c0-3e09-404c-aa09-33374e4cc52a",
   "metadata": {},
   "outputs": [],
   "source": [
    "state_area = pd.concat([state_area.iloc[0:47], state_area2])"
   ]
  },
  {
   "cell_type": "code",
   "execution_count": null,
   "id": "60b7fa38-3fe0-4801-96a8-c3d8020e2117",
   "metadata": {},
   "outputs": [],
   "source": [
    "veg_org_types = demo_vegetables.loc[(demo_vegetables['Domain'] == 'ORGANIZATION') & (demo_vegetables['Data Item'] == 'VEGETABLE TOTALS, INCL SEEDS & TRANSPLANTS, IN THE OPEN - OPERATIONS WITH SALES')]\n",
    "veg_org_types.to_csv(path_or_buf = 'veg_org_types.csv', index = False)"
   ]
  },
  {
   "cell_type": "code",
   "execution_count": null,
   "id": "02347b55-0139-4ab2-9f2c-6c2a52b1d6a3",
   "metadata": {},
   "outputs": [],
   "source": [
    "berry_org_types = demo_berries.loc[(demo_berries['Domain'] == 'ORGANIZATION') & (demo_berries['Data Item'] == 'BERRY TOTALS - OPERATIONS WITH SALES')]\n",
    "berry_org_types.to_csv(path_or_buf = 'berry_org_types.csv', index = False)"
   ]
  },
  {
   "cell_type": "code",
   "execution_count": null,
   "id": "24849000-3474-4e37-ab49-5035e9259c58",
   "metadata": {},
   "outputs": [],
   "source": [
    "veggies_zip1 = pd.read_csv('../data/veg_areaprod_zip.csv')\n",
    "veggies_zip2 = pd.read_csv('../data/veg_areaprod_zip2.csv')\n",
    "veggies_zip = pd.concat([veggies_zip1, veggies_zip2])\n",
    "veggies_zip_total = veggies_zip.loc[veggies_zip['Data Item'].str.contains('TOTAL')]\n",
    "veggies_zip_total.to_csv(path_or_buf = 'veggies_zip_total.csv', index = False)"
   ]
  },
  {
   "cell_type": "code",
   "execution_count": null,
   "id": "76ef077d-6395-4c76-9f17-33bacd5ac6e1",
   "metadata": {},
   "outputs": [],
   "source": []
  }
 ],
 "metadata": {
  "kernelspec": {
   "display_name": "Python 3 (ipykernel)",
   "language": "python",
   "name": "python3"
  },
  "language_info": {
   "codemirror_mode": {
    "name": "ipython",
    "version": 3
   },
   "file_extension": ".py",
   "mimetype": "text/x-python",
   "name": "python",
   "nbconvert_exporter": "python",
   "pygments_lexer": "ipython3",
   "version": "3.12.4"
  }
 },
 "nbformat": 4,
 "nbformat_minor": 5
}
